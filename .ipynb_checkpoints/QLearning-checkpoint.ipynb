{
 "cells": [
  {
   "cell_type": "markdown",
   "metadata": {
    "colab_type": "text",
    "id": "view-in-github"
   },
   "source": [
    "<a href=\"https://colab.research.google.com/github/montali/ChainLearning/blob/main/QLearning.ipynb\" target=\"_parent\"><img src=\"https://colab.research.google.com/assets/colab-badge.svg\" alt=\"Open In Colab\"/></a>"
   ]
  },
  {
   "cell_type": "markdown",
   "metadata": {
    "id": "Q4H-fAu9KNKm"
   },
   "source": [
    "We now have a chain environment with 5 states and 2 discrete actions, and we want to compute the Q-values using Q-learning. \n",
    "We know that theoretically Q-learning updates the Q-values as follows:\n",
    "$$\n",
    "Q^{new}(s,a) = Q^{old}(s,a) + \\alpha [r(s,a,s') + \\gamma \\max_{a'}Q^{old}(s', a') - Q^{old}(s,a)]\n",
    "$$\n",
    "We can therefore encode these Q-values into a 2d array $Q_{state, action}$"
   ]
  },
  {
   "cell_type": "code",
   "execution_count": 196,
   "metadata": {
    "id": "zAKoQlUhKMKy"
   },
   "outputs": [],
   "source": [
    "import numpy as np\n",
    "import random\n",
    "import matplotlib.pyplot as plt"
   ]
  },
  {
   "cell_type": "code",
   "execution_count": 142,
   "metadata": {
    "id": "wkSqofr7LT_A"
   },
   "outputs": [],
   "source": [
    "# Constants definition\n",
    "STATES = 5\n",
    "ACTIONS = 2\n",
    "REWARDS = np.array([\n",
    "                      [0,0,0,0,1], #Action A\n",
    "                      [0.2, 0,0,0,0] # Action B\n",
    "                      ]).transpose() # Tranpose it to be state,action like q\n",
    "\n",
    "TRANSITION = np.array([\n",
    "              [1,2,3,4,4],\n",
    "              [0,0,0,0,0] # Action B\n",
    "]).transpose() # Tranpose it to be state,action like q\n",
    "DELTA_THRESHOLD = 0.0001\n",
    "DISCOUNT = 0.9"
   ]
  },
  {
   "cell_type": "code",
   "execution_count": 158,
   "metadata": {
    "id": "4i7q35VwPgRH"
   },
   "outputs": [],
   "source": [
    "def solve_q_learning(lr, epsilon):\n",
    "    q = np.zeros((STATES, ACTIONS))\n",
    "    for t in range(10000):\n",
    "        for state in range(STATES):\n",
    "            # Pick an action using epsilon-greedy\n",
    "            if random.random()<(1-epsilon):\n",
    "                action = np.argmax(q[state])\n",
    "            else:\n",
    "                action = random.randint(0, ACTIONS-1)\n",
    "            q[state,action] = q[state, action] + lr * (REWARDS[state,action] + DISCOUNT * max(q[TRANSITION[state, action]]) - q[state,action])\n",
    "    return q"
   ]
  },
  {
   "cell_type": "code",
   "execution_count": 166,
   "metadata": {},
   "outputs": [
    {
     "data": {
      "text/plain": [
       "array([[ 6.561 ,  6.1049],\n",
       "       [ 7.29  ,  5.9049],\n",
       "       [ 8.1   ,  5.9049],\n",
       "       [ 9.    ,  5.9049],\n",
       "       [10.    ,  5.9049]])"
      ]
     },
     "execution_count": 166,
     "metadata": {},
     "output_type": "execute_result"
    }
   ],
   "source": [
    "solve_q_learning(0.1, 0.1)"
   ]
  },
  {
   "cell_type": "markdown",
   "metadata": {
    "id": "X6Dc8-NiPgva"
   },
   "source": [
    "# Now, repeat for 10 states!"
   ]
  },
  {
   "cell_type": "code",
   "execution_count": 168,
   "metadata": {
    "id": "bWN0s2ESPFm6"
   },
   "outputs": [],
   "source": [
    "# Constants definition\n",
    "STATES = 10\n",
    "ACTIONS = 2\n",
    "REWARDS = np.array([\n",
    "                      [0]*9 + [1], #Action A\n",
    "                      [0.2] + [0]*9 # Action B\n",
    "                      ]).transpose() # Tranpose it to be state,action like q\n",
    "\n",
    "TRANSITION = np.array([\n",
    "              [1,2,3,4,5,6,7,8,9,9],\n",
    "              [0]*10 # Action B\n",
    "]).transpose() # Tranpose it to be state,action like q\n",
    "DELTA_THRESHOLD = 0.0001\n",
    "DISCOUNT = 0.9"
   ]
  },
  {
   "cell_type": "code",
   "execution_count": 179,
   "metadata": {
    "id": "jUgBm6UZSYjt"
   },
   "outputs": [
    {
     "data": {
      "text/plain": [
       "array([[ 3.87420489,  3.6867844 ],\n",
       "       [ 4.3046721 ,  3.4867844 ],\n",
       "       [ 4.782969  ,  3.4867844 ],\n",
       "       [ 5.31441   ,  3.4867844 ],\n",
       "       [ 5.9049    ,  3.4867844 ],\n",
       "       [ 6.561     ,  3.4867844 ],\n",
       "       [ 7.29      ,  3.4867844 ],\n",
       "       [ 8.1       ,  3.4867844 ],\n",
       "       [ 9.        ,  3.4867844 ],\n",
       "       [10.        ,  3.4867844 ]])"
      ]
     },
     "execution_count": 179,
     "metadata": {},
     "output_type": "execute_result"
    }
   ],
   "source": [
    "solve_q_learning(0.1,0.1)"
   ]
  },
  {
   "cell_type": "markdown",
   "metadata": {
    "id": "r8DFKasmP_kv"
   },
   "source": [
    "And now let's do a nice gridsearch!"
   ]
  },
  {
   "cell_type": "code",
   "execution_count": 64,
   "metadata": {
    "id": "zthuXFiASeIV"
   },
   "outputs": [],
   "source": [
    "value_range = np.arange(0.1,0.95, 0.05)\n",
    "size = len(value_range)\n",
    "results = np.zeros((size, size, STATES, ACTIONS))\n",
    "for i, lr in enumerate(value_range):\n",
    "    for j, epsilon in enumerate(value_range):\n",
    "        results[i, j] = solve_q_learning(lr, epsilon)"
   ]
  },
  {
   "cell_type": "code",
   "execution_count": 65,
   "metadata": {
    "colab": {
     "base_uri": "https://localhost:8080/"
    },
    "id": "QB8surh9TMD8",
    "outputId": "d3516a58-7a75-43b9-b586-b26f2b180fad"
   },
   "outputs": [
    {
     "data": {
      "text/plain": [
       "array([[[[ 3.87420489,  3.6867844 ],\n",
       "         [ 4.3046721 ,  3.4867844 ],\n",
       "         [ 4.782969  ,  3.4867844 ],\n",
       "         ...,\n",
       "         [ 8.1       ,  3.4867844 ],\n",
       "         [ 9.        ,  3.4867844 ],\n",
       "         [10.        ,  3.4867844 ]],\n",
       "\n",
       "        [[ 3.87420489,  3.6867844 ],\n",
       "         [ 4.3046721 ,  3.4867844 ],\n",
       "         [ 4.782969  ,  3.4867844 ],\n",
       "         ...,\n",
       "         [ 8.1       ,  3.4867844 ],\n",
       "         [ 9.        ,  3.4867844 ],\n",
       "         [10.        ,  3.4867844 ]],\n",
       "\n",
       "        [[ 3.87420489,  3.6867844 ],\n",
       "         [ 4.3046721 ,  3.4867844 ],\n",
       "         [ 4.782969  ,  3.4867844 ],\n",
       "         ...,\n",
       "         [ 8.1       ,  3.4867844 ],\n",
       "         [ 9.        ,  3.4867844 ],\n",
       "         [10.        ,  3.4867844 ]],\n",
       "\n",
       "        ...,\n",
       "\n",
       "        [[ 3.87420489,  3.6867844 ],\n",
       "         [ 4.3046721 ,  3.4867844 ],\n",
       "         [ 4.782969  ,  3.4867844 ],\n",
       "         ...,\n",
       "         [ 8.1       ,  3.4867844 ],\n",
       "         [ 9.        ,  3.4867844 ],\n",
       "         [10.        ,  3.4867844 ]],\n",
       "\n",
       "        [[ 3.87420489,  3.6867844 ],\n",
       "         [ 4.3046721 ,  3.4867844 ],\n",
       "         [ 4.782969  ,  3.4867844 ],\n",
       "         ...,\n",
       "         [ 8.1       ,  3.4867844 ],\n",
       "         [ 9.        ,  3.4867844 ],\n",
       "         [10.        ,  3.4867844 ]],\n",
       "\n",
       "        [[ 3.87420489,  3.6867844 ],\n",
       "         [ 4.3046721 ,  3.4867844 ],\n",
       "         [ 4.782969  ,  3.4867844 ],\n",
       "         ...,\n",
       "         [ 8.1       ,  3.4867844 ],\n",
       "         [ 9.        ,  3.4867844 ],\n",
       "         [10.        ,  3.4867844 ]]],\n",
       "\n",
       "\n",
       "       [[[ 3.87420489,  3.6867844 ],\n",
       "         [ 4.3046721 ,  3.4867844 ],\n",
       "         [ 4.782969  ,  3.4867844 ],\n",
       "         ...,\n",
       "         [ 8.1       ,  3.4867844 ],\n",
       "         [ 9.        ,  3.4867844 ],\n",
       "         [10.        ,  3.4867844 ]],\n",
       "\n",
       "        [[ 3.87420489,  3.6867844 ],\n",
       "         [ 4.3046721 ,  3.4867844 ],\n",
       "         [ 4.782969  ,  3.4867844 ],\n",
       "         ...,\n",
       "         [ 8.1       ,  3.4867844 ],\n",
       "         [ 9.        ,  3.4867844 ],\n",
       "         [10.        ,  3.4867844 ]],\n",
       "\n",
       "        [[ 3.87420489,  3.6867844 ],\n",
       "         [ 4.3046721 ,  3.4867844 ],\n",
       "         [ 4.782969  ,  3.4867844 ],\n",
       "         ...,\n",
       "         [ 8.1       ,  3.4867844 ],\n",
       "         [ 9.        ,  3.4867844 ],\n",
       "         [10.        ,  3.4867844 ]],\n",
       "\n",
       "        ...,\n",
       "\n",
       "        [[ 3.87420489,  3.6867844 ],\n",
       "         [ 4.3046721 ,  3.4867844 ],\n",
       "         [ 4.782969  ,  3.4867844 ],\n",
       "         ...,\n",
       "         [ 8.1       ,  3.4867844 ],\n",
       "         [ 9.        ,  3.4867844 ],\n",
       "         [10.        ,  3.4867844 ]],\n",
       "\n",
       "        [[ 3.87420489,  3.6867844 ],\n",
       "         [ 4.3046721 ,  3.4867844 ],\n",
       "         [ 4.782969  ,  3.4867844 ],\n",
       "         ...,\n",
       "         [ 8.1       ,  3.4867844 ],\n",
       "         [ 9.        ,  3.4867844 ],\n",
       "         [10.        ,  3.4867844 ]],\n",
       "\n",
       "        [[ 3.87420489,  3.6867844 ],\n",
       "         [ 4.3046721 ,  3.4867844 ],\n",
       "         [ 4.782969  ,  3.4867844 ],\n",
       "         ...,\n",
       "         [ 8.1       ,  3.4867844 ],\n",
       "         [ 9.        ,  3.4867844 ],\n",
       "         [10.        ,  3.4867844 ]]],\n",
       "\n",
       "\n",
       "       [[[ 3.87420489,  3.6867844 ],\n",
       "         [ 4.3046721 ,  3.4867844 ],\n",
       "         [ 4.782969  ,  3.4867844 ],\n",
       "         ...,\n",
       "         [ 8.1       ,  3.4867844 ],\n",
       "         [ 9.        ,  3.4867844 ],\n",
       "         [10.        ,  3.4867844 ]],\n",
       "\n",
       "        [[ 3.87420489,  3.6867844 ],\n",
       "         [ 4.3046721 ,  3.4867844 ],\n",
       "         [ 4.782969  ,  3.4867844 ],\n",
       "         ...,\n",
       "         [ 8.1       ,  3.4867844 ],\n",
       "         [ 9.        ,  3.4867844 ],\n",
       "         [10.        ,  3.4867844 ]],\n",
       "\n",
       "        [[ 3.87420489,  3.6867844 ],\n",
       "         [ 4.3046721 ,  3.4867844 ],\n",
       "         [ 4.782969  ,  3.4867844 ],\n",
       "         ...,\n",
       "         [ 8.1       ,  3.4867844 ],\n",
       "         [ 9.        ,  3.4867844 ],\n",
       "         [10.        ,  3.4867844 ]],\n",
       "\n",
       "        ...,\n",
       "\n",
       "        [[ 3.87420489,  3.6867844 ],\n",
       "         [ 4.3046721 ,  3.4867844 ],\n",
       "         [ 4.782969  ,  3.4867844 ],\n",
       "         ...,\n",
       "         [ 8.1       ,  3.4867844 ],\n",
       "         [ 9.        ,  3.4867844 ],\n",
       "         [10.        ,  3.4867844 ]],\n",
       "\n",
       "        [[ 3.87420489,  3.6867844 ],\n",
       "         [ 4.3046721 ,  3.4867844 ],\n",
       "         [ 4.782969  ,  3.4867844 ],\n",
       "         ...,\n",
       "         [ 8.1       ,  3.4867844 ],\n",
       "         [ 9.        ,  3.4867844 ],\n",
       "         [10.        ,  3.4867844 ]],\n",
       "\n",
       "        [[ 3.87420489,  3.6867844 ],\n",
       "         [ 4.3046721 ,  3.4867844 ],\n",
       "         [ 4.782969  ,  3.4867844 ],\n",
       "         ...,\n",
       "         [ 8.1       ,  3.4867844 ],\n",
       "         [ 9.        ,  3.4867844 ],\n",
       "         [10.        ,  3.4867844 ]]],\n",
       "\n",
       "\n",
       "       ...,\n",
       "\n",
       "\n",
       "       [[[ 3.87420489,  3.6867844 ],\n",
       "         [ 4.3046721 ,  3.4867844 ],\n",
       "         [ 4.782969  ,  3.4867844 ],\n",
       "         ...,\n",
       "         [ 8.1       ,  3.4867844 ],\n",
       "         [ 9.        ,  3.4867844 ],\n",
       "         [10.        ,  3.4867844 ]],\n",
       "\n",
       "        [[ 3.87420489,  3.6867844 ],\n",
       "         [ 4.3046721 ,  3.4867844 ],\n",
       "         [ 4.782969  ,  3.4867844 ],\n",
       "         ...,\n",
       "         [ 8.1       ,  3.4867844 ],\n",
       "         [ 9.        ,  3.4867844 ],\n",
       "         [10.        ,  3.4867844 ]],\n",
       "\n",
       "        [[ 3.87420489,  3.6867844 ],\n",
       "         [ 4.3046721 ,  3.4867844 ],\n",
       "         [ 4.782969  ,  3.4867844 ],\n",
       "         ...,\n",
       "         [ 8.1       ,  3.4867844 ],\n",
       "         [ 9.        ,  3.4867844 ],\n",
       "         [10.        ,  3.4867844 ]],\n",
       "\n",
       "        ...,\n",
       "\n",
       "        [[ 3.87420489,  3.6867844 ],\n",
       "         [ 4.3046721 ,  3.4867844 ],\n",
       "         [ 4.782969  ,  3.4867844 ],\n",
       "         ...,\n",
       "         [ 8.1       ,  3.4867844 ],\n",
       "         [ 9.        ,  3.4867844 ],\n",
       "         [10.        ,  3.4867844 ]],\n",
       "\n",
       "        [[ 3.87420489,  3.6867844 ],\n",
       "         [ 4.3046721 ,  3.4867844 ],\n",
       "         [ 4.782969  ,  3.4867844 ],\n",
       "         ...,\n",
       "         [ 8.1       ,  3.4867844 ],\n",
       "         [ 9.        ,  3.4867844 ],\n",
       "         [10.        ,  3.4867844 ]],\n",
       "\n",
       "        [[ 3.87420489,  3.6867844 ],\n",
       "         [ 4.3046721 ,  3.4867844 ],\n",
       "         [ 4.782969  ,  3.4867844 ],\n",
       "         ...,\n",
       "         [ 8.1       ,  3.4867844 ],\n",
       "         [ 9.        ,  3.4867844 ],\n",
       "         [10.        ,  3.4867844 ]]],\n",
       "\n",
       "\n",
       "       [[[ 3.87420489,  3.6867844 ],\n",
       "         [ 4.3046721 ,  3.4867844 ],\n",
       "         [ 4.782969  ,  3.4867844 ],\n",
       "         ...,\n",
       "         [ 8.1       ,  3.4867844 ],\n",
       "         [ 9.        ,  3.4867844 ],\n",
       "         [10.        ,  3.4867844 ]],\n",
       "\n",
       "        [[ 3.87420489,  3.6867844 ],\n",
       "         [ 4.3046721 ,  3.4867844 ],\n",
       "         [ 4.782969  ,  3.4867844 ],\n",
       "         ...,\n",
       "         [ 8.1       ,  3.4867844 ],\n",
       "         [ 9.        ,  3.4867844 ],\n",
       "         [10.        ,  3.4867844 ]],\n",
       "\n",
       "        [[ 3.87420489,  3.6867844 ],\n",
       "         [ 4.3046721 ,  3.4867844 ],\n",
       "         [ 4.782969  ,  3.4867844 ],\n",
       "         ...,\n",
       "         [ 8.1       ,  3.4867844 ],\n",
       "         [ 9.        ,  3.4867844 ],\n",
       "         [10.        ,  3.4867844 ]],\n",
       "\n",
       "        ...,\n",
       "\n",
       "        [[ 3.87420489,  3.6867844 ],\n",
       "         [ 4.3046721 ,  3.4867844 ],\n",
       "         [ 4.782969  ,  3.4867844 ],\n",
       "         ...,\n",
       "         [ 8.1       ,  3.4867844 ],\n",
       "         [ 9.        ,  3.4867844 ],\n",
       "         [10.        ,  3.4867844 ]],\n",
       "\n",
       "        [[ 3.87420489,  3.6867844 ],\n",
       "         [ 4.3046721 ,  3.4867844 ],\n",
       "         [ 4.782969  ,  3.4867844 ],\n",
       "         ...,\n",
       "         [ 8.1       ,  3.4867844 ],\n",
       "         [ 9.        ,  3.4867844 ],\n",
       "         [10.        ,  3.4867844 ]],\n",
       "\n",
       "        [[ 3.87420489,  3.6867844 ],\n",
       "         [ 4.3046721 ,  3.4867844 ],\n",
       "         [ 4.782969  ,  3.4867844 ],\n",
       "         ...,\n",
       "         [ 8.1       ,  3.4867844 ],\n",
       "         [ 9.        ,  3.4867844 ],\n",
       "         [10.        ,  3.4867844 ]]],\n",
       "\n",
       "\n",
       "       [[[ 3.87420489,  3.6867844 ],\n",
       "         [ 4.3046721 ,  3.4867844 ],\n",
       "         [ 4.782969  ,  3.4867844 ],\n",
       "         ...,\n",
       "         [ 8.1       ,  3.4867844 ],\n",
       "         [ 9.        ,  3.4867844 ],\n",
       "         [10.        ,  3.4867844 ]],\n",
       "\n",
       "        [[ 3.87420489,  3.6867844 ],\n",
       "         [ 4.3046721 ,  3.4867844 ],\n",
       "         [ 4.782969  ,  3.4867844 ],\n",
       "         ...,\n",
       "         [ 8.1       ,  3.4867844 ],\n",
       "         [ 9.        ,  3.4867844 ],\n",
       "         [10.        ,  3.4867844 ]],\n",
       "\n",
       "        [[ 3.87420489,  3.6867844 ],\n",
       "         [ 4.3046721 ,  3.4867844 ],\n",
       "         [ 4.782969  ,  3.4867844 ],\n",
       "         ...,\n",
       "         [ 8.1       ,  3.4867844 ],\n",
       "         [ 9.        ,  3.4867844 ],\n",
       "         [10.        ,  3.4867844 ]],\n",
       "\n",
       "        ...,\n",
       "\n",
       "        [[ 3.87420489,  3.6867844 ],\n",
       "         [ 4.3046721 ,  3.4867844 ],\n",
       "         [ 4.782969  ,  3.4867844 ],\n",
       "         ...,\n",
       "         [ 8.1       ,  3.4867844 ],\n",
       "         [ 9.        ,  3.4867844 ],\n",
       "         [10.        ,  3.4867844 ]],\n",
       "\n",
       "        [[ 3.87420489,  3.6867844 ],\n",
       "         [ 4.3046721 ,  3.4867844 ],\n",
       "         [ 4.782969  ,  3.4867844 ],\n",
       "         ...,\n",
       "         [ 8.1       ,  3.4867844 ],\n",
       "         [ 9.        ,  3.4867844 ],\n",
       "         [10.        ,  3.4867844 ]],\n",
       "\n",
       "        [[ 3.87420489,  3.6867844 ],\n",
       "         [ 4.3046721 ,  3.4867844 ],\n",
       "         [ 4.782969  ,  3.4867844 ],\n",
       "         ...,\n",
       "         [ 8.1       ,  3.4867844 ],\n",
       "         [ 9.        ,  3.4867844 ],\n",
       "         [10.        ,  3.4867844 ]]]])"
      ]
     },
     "execution_count": 65,
     "metadata": {},
     "output_type": "execute_result"
    }
   ],
   "source": [
    "results"
   ]
  },
  {
   "cell_type": "code",
   "execution_count": 207,
   "metadata": {},
   "outputs": [
    {
     "data": {
      "image/png": "[encoded data removed]",
      "text/plain": [
       "<Figure size 576x288 with 1 Axes>"
      ]
     },
     "metadata": {
      "needs_background": "light"
     },
     "output_type": "display_data"
    }
   ],
   "source": [
    "n = 6\n",
    "eps_values = np.logspace(-6, -1, num=n)[::-1]\n",
    "mean_q_values_action_a = np.zeros(n)\n",
    "std_q_values_action_a = np.zeros(n)\n",
    "mean_q_values_action_b = np.zeros(n)\n",
    "std_q_values_action_b = np.zeros(n)\n",
    "\n",
    "for i, eps in enumerate(eps_values):\n",
    "    q = solve_q_learning(0.1, eps)\n",
    "    mean_q_values_action_a[i] = np.mean(q[:,0]) # average along column of action a\n",
    "    std_q_values_action_a[i] = np.std(q[:,0])  # std along column of action a\n",
    "    mean_q_values_action_b[i] = np.mean(q[:,1]) # average along column of action b\n",
    "    std_q_values_action_b[i] = np.std(q[:,1])  # std along column of action b\n",
    "    \n",
    "fig, ax = plt.subplots(1, figsize=(8,4))\n",
    "\n",
    "upper_bound_a = np.array(mean_q_values_action_a + std_q_values_action_a,  dtype=float)\n",
    "lower_bound_a = np.array(mean_q_values_action_a - std_q_values_action_a,  dtype=float)\n",
    "upper_bound_b = np.array(mean_q_values_action_b + std_q_values_action_b,  dtype=float)\n",
    "lower_bound_b = np.array(mean_q_values_action_b - std_q_values_action_b,  dtype=float)\n",
    "\n",
    "ax.plot(eps_values, mean_q_values_action_a, marker='o', markersize=4, linestyle='solid', lw=1, label=\"action a\")\n",
    "ax.fill_between(eps_values, lower_bound_a, upper_bound_a, alpha=0.3)\n",
    "\n",
    "ax.plot(eps_values, mean_q_values_action_b, marker='o', markersize=4, linestyle='solid', lw=1, label=\"action b\")\n",
    "ax.fill_between(eps_values, lower_bound_b, upper_bound_b, alpha=0.3)\n",
    "\n",
    "ax.legend(loc='best')\n",
    "ax.set_xlabel('Epsilon')\n",
    "ax.set_ylabel('Avg q values')\n",
    "ax.grid(linestyle=\"--\")\n",
    "ax.set_xscale('log')\n",
    "#ax.set_ylim(0, 1.01)\n",
    "plt.xticks(eps_values, eps_values)\n",
    "plt.tight_layout()\n",
    "plt.show()"
   ]
  }
 ],
 "metadata": {
  "colab": {
   "authorship_tag": "ABX9TyOFVbYbbTSiUnTfvsM9hEvF",
   "collapsed_sections": [],
   "include_colab_link": true,
   "name": "Untitled9.ipynb",
   "provenance": []
  },
  "kernelspec": {
   "display_name": "Python 3 (ipykernel)",
   "language": "python",
   "name": "python3"
  },
  "language_info": {
   "codemirror_mode": {
    "name": "ipython",
    "version": 3
   },
   "file_extension": ".py",
   "mimetype": "text/x-python",
   "name": "python",
   "nbconvert_exporter": "python",
   "pygments_lexer": "ipython3",
   "version": "3.9.7"
  }
 },
 "nbformat": 4,
 "nbformat_minor": 1
}
